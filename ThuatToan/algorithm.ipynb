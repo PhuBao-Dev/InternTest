{
  "cells": [
    {
      "cell_type": "markdown",
      "metadata": {
        "id": "bPY8_qNn2gCf"
      },
      "source": [
        "##Câu 1a"
      ]
    },
    {
      "cell_type": "code",
      "execution_count": null,
      "metadata": {
        "id": "P7bOR1hAxNRs"
      },
      "outputs": [],
      "source": [
        "import heapq"
      ]
    },
    {
      "cell_type": "code",
      "execution_count": null,
      "metadata": {
        "colab": {
          "base_uri": "https://localhost:8080/"
        },
        "id": "KbDnhBQ-wvC4",
        "outputId": "634bcceb-ea54-480f-80ec-48c64cc91489"
      },
      "outputs": [
        {
          "data": {
            "text/plain": [
              "[11, 10, 5, 4, 3]"
            ]
          },
          "execution_count": 9,
          "metadata": {},
          "output_type": "execute_result"
        }
      ],
      "source": [
        "heapq.nlargest(5, [3,4,5,3,2,3,10,11])"
      ]
    },
    {
      "cell_type": "code",
      "execution_count": null,
      "metadata": {
        "colab": {
          "base_uri": "https://localhost:8080/"
        },
        "id": "o9H0t-DSw-l9",
        "outputId": "0866504e-63eb-4d73-f36b-74815c6dc8ef"
      },
      "outputs": [
        {
          "data": {
            "text/plain": [
              "[48, 45, 38, 36, 34]"
            ]
          },
          "execution_count": 10,
          "metadata": {},
          "output_type": "execute_result"
        }
      ],
      "source": [
        "heapq.nlargest(5, [14,12,38,17,10,36,12,29,45,34,48,22])"
      ]
    },
    {
      "cell_type": "code",
      "execution_count": null,
      "metadata": {
        "colab": {
          "base_uri": "https://localhost:8080/"
        },
        "id": "KhrLe3LoxVaA",
        "outputId": "40919e25-b5bd-4174-a6af-fed5fd34f32d"
      },
      "outputs": [
        {
          "data": {
            "text/plain": [
              "[30, 22, 22, 12, 11]"
            ]
          },
          "execution_count": 11,
          "metadata": {},
          "output_type": "execute_result"
        }
      ],
      "source": [
        "heapq.nlargest(5, [10,11,2,30,22,6,8,9,11,12,22])"
      ]
    },
    {
      "cell_type": "markdown",
      "metadata": {
        "id": "RJyUdLk62b5Z"
      },
      "source": [
        "##Câu 1b"
      ]
    },
    {
      "cell_type": "code",
      "execution_count": 2,
      "metadata": {
        "id": "9r4G1XE6yz6U"
      },
      "outputs": [],
      "source": [
        "def findFre(arr):\n",
        "  freq = [None] * len(arr)\n",
        "  visited = -1\n",
        "  # count  \n",
        "  for i in range(0, len(arr)):\n",
        "      if(freq[i] == visited):  \n",
        "            continue  \n",
        "      count = 1\n",
        "      for j in range(i+1, len(arr)):  \n",
        "          if(arr[i] == arr[j]):  \n",
        "              count = count + 1\n",
        "              freq[j] = visited\n",
        "      freq[i] = count\n",
        "  # remove duplicates\n",
        "  arr2 = list(dict.fromkeys(arr))\n",
        "  # remove all visited elements(-1)\n",
        "  freq2 = list(filter((-1).__ne__, freq))\n",
        "  # create dictionary\n",
        "  dictionary = dict(zip(arr2, freq2))\n",
        "  # find max\n",
        "  key_max = max(dictionary.keys(), key=(lambda k: dictionary[k]))\n",
        "  return key_max\n"
      ]
    },
    {
      "cell_type": "code",
      "execution_count": 8,
      "metadata": {
        "colab": {
          "base_uri": "https://localhost:8080/"
        },
        "id": "KpGSdaJK0ydE",
        "outputId": "de08c9c8-69f0-40d9-9347-2350412e68b7"
      },
      "outputs": [
        {
          "data": {
            "text/plain": [
              "3"
            ]
          },
          "execution_count": 8,
          "metadata": {},
          "output_type": "execute_result"
        }
      ],
      "source": [
        "findFre([3, 7, 3])"
      ]
    },
    {
      "cell_type": "code",
      "execution_count": 7,
      "metadata": {
        "colab": {
          "base_uri": "https://localhost:8080/"
        },
        "id": "Z0uysoa94KhP",
        "outputId": "4d62591f-81ee-4311-f6c5-4f17658b1142"
      },
      "outputs": [
        {
          "name": "stdout",
          "output_type": "stream",
          "text": [
            "None\n"
          ]
        }
      ],
      "source": [
        "print(findFre([None, \"hello\", True, None]))"
      ]
    },
    {
      "cell_type": "code",
      "execution_count": 6,
      "metadata": {
        "colab": {
          "base_uri": "https://localhost:8080/"
        },
        "id": "JeCcohxp4D_c",
        "outputId": "bff723df-2e5e-4bb9-8bdc-a7ffba48f2a6"
      },
      "outputs": [
        {
          "data": {
            "text/plain": [
              "False"
            ]
          },
          "execution_count": 6,
          "metadata": {},
          "output_type": "execute_result"
        }
      ],
      "source": [
        "findFre([False, \"up\", \"down\", \"left\", \"right\", True, False])"
      ]
    }
  ],
  "metadata": {
    "colab": {
      "name": "Alg.ipynb",
      "provenance": []
    },
    "kernelspec": {
      "display_name": "Python 3",
      "name": "python3"
    },
    "language_info": {
      "name": "python"
    }
  },
  "nbformat": 4,
  "nbformat_minor": 0
}
